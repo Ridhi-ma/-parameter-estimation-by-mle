{
 "cells": [
  {
   "cell_type": "code",
   "execution_count": 1,
   "id": "79ef79e4",
   "metadata": {},
   "outputs": [],
   "source": [
    "import numpy as np\n",
    "from scipy.optimize import minimize\n",
    "import scipy.stats as stats"
   ]
  },
  {
   "cell_type": "code",
   "execution_count": 4,
   "id": "2d7f24e3",
   "metadata": {},
   "outputs": [
    {
     "data": {
      "text/html": [
       "<div>\n",
       "<style scoped>\n",
       "    .dataframe tbody tr th:only-of-type {\n",
       "        vertical-align: middle;\n",
       "    }\n",
       "\n",
       "    .dataframe tbody tr th {\n",
       "        vertical-align: top;\n",
       "    }\n",
       "\n",
       "    .dataframe thead th {\n",
       "        text-align: right;\n",
       "    }\n",
       "</style>\n",
       "<table border=\"1\" class=\"dataframe\">\n",
       "  <thead>\n",
       "    <tr style=\"text-align: right;\">\n",
       "      <th></th>\n",
       "      <th>Id</th>\n",
       "      <th>Y</th>\n",
       "      <th>X</th>\n",
       "    </tr>\n",
       "  </thead>\n",
       "  <tbody>\n",
       "    <tr>\n",
       "      <th>0</th>\n",
       "      <td>1</td>\n",
       "      <td>2</td>\n",
       "      <td>1</td>\n",
       "    </tr>\n",
       "    <tr>\n",
       "      <th>1</th>\n",
       "      <td>2</td>\n",
       "      <td>6</td>\n",
       "      <td>4</td>\n",
       "    </tr>\n",
       "    <tr>\n",
       "      <th>2</th>\n",
       "      <td>3</td>\n",
       "      <td>7</td>\n",
       "      <td>5</td>\n",
       "    </tr>\n",
       "    <tr>\n",
       "      <th>3</th>\n",
       "      <td>4</td>\n",
       "      <td>9</td>\n",
       "      <td>6</td>\n",
       "    </tr>\n",
       "    <tr>\n",
       "      <th>4</th>\n",
       "      <td>5</td>\n",
       "      <td>15</td>\n",
       "      <td>9</td>\n",
       "    </tr>\n",
       "  </tbody>\n",
       "</table>\n",
       "</div>"
      ],
      "text/plain": [
       "   Id   Y  X\n",
       "0   1   2  1\n",
       "1   2   6  4\n",
       "2   3   7  5\n",
       "3   4   9  6\n",
       "4   5  15  9"
      ]
     },
     "execution_count": 4,
     "metadata": {},
     "output_type": "execute_result"
    }
   ],
   "source": [
    "import pandas as pd\n",
    "tb1=pd.read_csv('/Users/vanshtandon/Downloads/mle.csv')\n",
    "tb1"
   ]
  },
  {
   "cell_type": "code",
   "execution_count": 11,
   "id": "17a3a54b",
   "metadata": {},
   "outputs": [
    {
     "name": "stdout",
     "output_type": "stream",
     "text": [
      "                            OLS Regression Results                            \n",
      "==============================================================================\n",
      "Dep. Variable:                      Y   R-squared:                       0.980\n",
      "Model:                            OLS   Adj. R-squared:                  0.973\n",
      "Method:                 Least Squares   F-statistic:                     145.9\n",
      "Date:                Wed, 22 Mar 2023   Prob (F-statistic):            0.00122\n",
      "Time:                        02:04:34   Log-Likelihood:                -4.5811\n",
      "No. Observations:                   5   AIC:                             13.16\n",
      "Df Residuals:                       3   BIC:                             12.38\n",
      "Df Model:                           1                                         \n",
      "Covariance Type:            nonrobust                                         \n",
      "==============================================================================\n",
      "                 coef    std err          t      P>|t|      [0.025      0.975]\n",
      "------------------------------------------------------------------------------\n",
      "const         -0.2882      0.755     -0.382      0.728      -2.692       2.115\n",
      "X              1.6176      0.134     12.079      0.001       1.191       2.044\n",
      "==============================================================================\n",
      "Omnibus:                          nan   Durbin-Watson:                   1.405\n",
      "Prob(Omnibus):                    nan   Jarque-Bera (JB):                0.551\n",
      "Skew:                           0.089   Prob(JB):                        0.759\n",
      "Kurtosis:                       1.384   Cond. No.                         12.5\n",
      "==============================================================================\n",
      "\n",
      "Notes:\n",
      "[1] Standard Errors assume that the covariance matrix of the errors is correctly specified.\n"
     ]
    },
    {
     "name": "stderr",
     "output_type": "stream",
     "text": [
      "/Users/vanshtandon/opt/anaconda3/lib/python3.9/site-packages/statsmodels/stats/stattools.py:74: ValueWarning: omni_normtest is not valid with less than 8 observations; 5 samples were given.\n",
      "  warn(\"omni_normtest is not valid with less than 8 observations; %i \"\n"
     ]
    }
   ],
   "source": [
    "import statsmodels.api as sm\n",
    "x=tb1['X']\n",
    "y=tb1['Y']\n",
    "x2=sm.add_constant(x)\n",
    "mod1=sm.OLS(y,x2)\n",
    "mod12=mod1.fit()\n",
    "print(mod12.summary())"
   ]
  },
  {
   "cell_type": "code",
   "execution_count": 12,
   "id": "69cd92db",
   "metadata": {},
   "outputs": [
    {
     "data": {
      "text/plain": [
       "0    0.670588\n",
       "1   -0.182353\n",
       "2   -0.800000\n",
       "3   -0.417647\n",
       "4    0.729412\n",
       "dtype: float64"
      ]
     },
     "execution_count": 12,
     "metadata": {},
     "output_type": "execute_result"
    }
   ],
   "source": [
    "e=mod12.resid\n",
    "e"
   ]
  },
  {
   "cell_type": "code",
   "execution_count": 13,
   "id": "bdde0ea0",
   "metadata": {},
   "outputs": [
    {
     "data": {
      "text/plain": [
       "0.6048820983804829"
      ]
     },
     "execution_count": 13,
     "metadata": {},
     "output_type": "execute_result"
    }
   ],
   "source": [
    "np.std(e)"
   ]
  },
  {
   "cell_type": "code",
   "execution_count": 35,
   "id": "c45d1f52",
   "metadata": {},
   "outputs": [],
   "source": [
    "import numpy as np \n",
    "from scipy.optimize import minimize \n",
    "import matplotlib.pyplot as plt\n",
    "\n",
    "def lik(parameters):\n",
    "    m= parameters[0] \n",
    "    b= parameters[1]\n",
    "    sigma=parameters[2]\n",
    "    for i in np.arange(0, len(x)):\n",
    "        y_exp=m*x+b\n",
    "    L=(len(x)/2* np.log(2*np.pi)+ len(x)/2 * np.log(sigma** 2) + 1/(2 *sigma** 2)* sum((y - y_exp)** 2))\n",
    "    return L\n",
    "\n",
    "x= np.array([1,4,5,6,9])\n",
    "y= np.array([2,6,7,9,15])\n",
    "\n",
    "lik_model= minimize(lik, np.array([2,2,2]), method='L-BFGS-B')\n"
   ]
  },
  {
   "cell_type": "code",
   "execution_count": 36,
   "id": "9f541dbc",
   "metadata": {},
   "outputs": [
    {
     "data": {
      "text/plain": [
       "      fun: 4.581084072760602\n",
       " hess_inv: <3x3 LbfgsInvHessProduct with dtype=float64>\n",
       "      jac: array([-1.24344980e-06, -7.99360578e-07, -8.88178415e-07])\n",
       "  message: 'CONVERGENCE: NORM_OF_PROJECTED_GRADIENT_<=_PGTOL'\n",
       "     nfev: 108\n",
       "      nit: 18\n",
       "     njev: 27\n",
       "   status: 0\n",
       "  success: True\n",
       "        x: array([ 1.61764707, -0.28823542,  0.60488206])"
      ]
     },
     "execution_count": 36,
     "metadata": {},
     "output_type": "execute_result"
    }
   ],
   "source": [
    "lik_model"
   ]
  },
  {
   "cell_type": "code",
   "execution_count": null,
   "id": "34e6e572",
   "metadata": {},
   "outputs": [],
   "source": []
  }
 ],
 "metadata": {
  "kernelspec": {
   "display_name": "Python 3 (ipykernel)",
   "language": "python",
   "name": "python3"
  },
  "language_info": {
   "codemirror_mode": {
    "name": "ipython",
    "version": 3
   },
   "file_extension": ".py",
   "mimetype": "text/x-python",
   "name": "python",
   "nbconvert_exporter": "python",
   "pygments_lexer": "ipython3",
   "version": "3.9.12"
  }
 },
 "nbformat": 4,
 "nbformat_minor": 5
}
